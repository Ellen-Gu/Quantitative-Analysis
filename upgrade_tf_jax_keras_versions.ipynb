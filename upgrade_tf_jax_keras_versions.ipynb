{
  "cells": [
    {
      "cell_type": "markdown",
      "metadata": {
        "id": "view-in-github",
        "colab_type": "text"
      },
      "source": [
        "<a href=\"https://colab.research.google.com/github/Ellen-Gu/Quantitative-Analysis/blob/main/upgrade_tf_jax_keras_versions.ipynb\" target=\"_parent\"><img src=\"https://colab.research.google.com/assets/colab-badge.svg\" alt=\"Open In Colab\"/></a>"
      ]
    },
    {
      "cell_type": "markdown",
      "source": [
        "This is what I do to upgrade tensorflow, jax, keras and related modules on Saturn Cloud. Saturn Cloud provide images but they are somewhat out of data, if clients wants to try on some new stuffs, such as finetune gemma with jax and keras.\n",
        "\n",
        "Aside of this commercial cloud, the followings are also good for use in local docker systems. I tested them on a low end GPU (Quadro M1200, compute capacity = 5.0) and a high end consumer level GPU (GeForce RTX 4090, compute capacilit = 8.9). All three run well.  \n",
        "\n",
        "The followings are what I got on Saturn Cloud before upgrade, after upgrade, and how I upgrade the environment. TF 2.16 is not yet releases, but keras 3 needs that for certain ml-types modules. If you do not want to upgrade tf from 2.15 (current release) to this pre-relase version, you can left it out, and keras3 plus jax will also get the finuetune codes running through."
      ],
      "metadata": {
        "id": "qiWecTG9VMmK"
      },
      "id": "qiWecTG9VMmK"
    },
    {
      "cell_type": "code",
      "execution_count": null,
      "id": "14dfe133-8dcb-4ea9-bcbd-f751ce33c96e",
      "metadata": {
        "execution": {
          "iopub.execute_input": "2024-03-01T22:58:53.494625Z",
          "iopub.status.busy": "2024-03-01T22:58:53.494207Z",
          "iopub.status.idle": "2024-03-01T22:58:59.621928Z",
          "shell.execute_reply": "2024-03-01T22:58:59.621102Z",
          "shell.execute_reply.started": "2024-03-01T22:58:53.494558Z"
        },
        "id": "14dfe133-8dcb-4ea9-bcbd-f751ce33c96e",
        "outputId": "047f1f3a-a48e-4d32-b0b8-95f63b9874cf"
      },
      "outputs": [
        {
          "name": "stderr",
          "output_type": "stream",
          "text": [
            "2024-03-01 22:58:53.626105: I tensorflow/core/util/util.cc:169] oneDNN custom operations are on. You may see slightly different numerical results due to floating-point round-off errors from different computation orders. To turn them off, set the environment variable `TF_ENABLE_ONEDNN_OPTS=0`.\n"
          ]
        },
        {
          "data": {
            "text/plain": [
              "'2.9.1'"
            ]
          },
          "execution_count": 1,
          "metadata": {},
          "output_type": "execute_result"
        }
      ],
      "source": [
        "import tensorflow as tf\n",
        "tf.__version__"
      ]
    },
    {
      "cell_type": "code",
      "execution_count": null,
      "id": "95569dce-ca39-465a-bb6c-e8ef16f7f793",
      "metadata": {
        "execution": {
          "iopub.execute_input": "2024-03-01T22:59:12.453719Z",
          "iopub.status.busy": "2024-03-01T22:59:12.453173Z",
          "iopub.status.idle": "2024-03-01T22:59:12.958983Z",
          "shell.execute_reply": "2024-03-01T22:59:12.958042Z",
          "shell.execute_reply.started": "2024-03-01T22:59:12.453692Z"
        },
        "id": "95569dce-ca39-465a-bb6c-e8ef16f7f793",
        "outputId": "229487c0-66c0-4ae8-f59e-c40e4188a85a"
      },
      "outputs": [
        {
          "ename": "ModuleNotFoundError",
          "evalue": "No module named 'jax'",
          "output_type": "error",
          "traceback": [
            "\u001b[0;31m---------------------------------------------------------------------------\u001b[0m",
            "\u001b[0;31mModuleNotFoundError\u001b[0m                       Traceback (most recent call last)",
            "Cell \u001b[0;32mIn [2], line 1\u001b[0m\n\u001b[0;32m----> 1\u001b[0m \u001b[38;5;28;01mimport\u001b[39;00m \u001b[38;5;21;01mjax\u001b[39;00m\n\u001b[1;32m      2\u001b[0m jax\u001b[38;5;241m.\u001b[39m__version__\n",
            "\u001b[0;31mModuleNotFoundError\u001b[0m: No module named 'jax'"
          ]
        }
      ],
      "source": [
        "import jax\n",
        "jax.__version__"
      ]
    },
    {
      "cell_type": "code",
      "execution_count": null,
      "id": "eae3122f-e031-4df0-a74f-3169c95eee77",
      "metadata": {
        "execution": {
          "iopub.execute_input": "2024-03-01T22:59:31.349551Z",
          "iopub.status.busy": "2024-03-01T22:59:31.349149Z",
          "iopub.status.idle": "2024-03-01T22:59:31.364263Z",
          "shell.execute_reply": "2024-03-01T22:59:31.363168Z",
          "shell.execute_reply.started": "2024-03-01T22:59:31.349524Z"
        },
        "id": "eae3122f-e031-4df0-a74f-3169c95eee77",
        "outputId": "3f86b80a-4bfd-4537-d31c-21ae36f23fd9"
      },
      "outputs": [
        {
          "ename": "ModuleNotFoundError",
          "evalue": "No module named 'torch'",
          "output_type": "error",
          "traceback": [
            "\u001b[0;31m---------------------------------------------------------------------------\u001b[0m",
            "\u001b[0;31mModuleNotFoundError\u001b[0m                       Traceback (most recent call last)",
            "Cell \u001b[0;32mIn [3], line 1\u001b[0m\n\u001b[0;32m----> 1\u001b[0m \u001b[38;5;28;01mimport\u001b[39;00m \u001b[38;5;21;01mtorch\u001b[39;00m\n\u001b[1;32m      2\u001b[0m torch\u001b[38;5;241m.\u001b[39m__version__\n",
            "\u001b[0;31mModuleNotFoundError\u001b[0m: No module named 'torch'"
          ]
        }
      ],
      "source": [
        "import torch\n",
        "torch.__version__"
      ]
    },
    {
      "cell_type": "code",
      "execution_count": null,
      "id": "292e641d-57b6-42ca-9242-cde7a722b017",
      "metadata": {
        "execution": {
          "iopub.execute_input": "2024-03-01T22:59:49.588510Z",
          "iopub.status.busy": "2024-03-01T22:59:49.588125Z",
          "iopub.status.idle": "2024-03-01T22:59:49.593177Z",
          "shell.execute_reply": "2024-03-01T22:59:49.592575Z",
          "shell.execute_reply.started": "2024-03-01T22:59:49.588485Z"
        },
        "id": "292e641d-57b6-42ca-9242-cde7a722b017",
        "outputId": "d874e4a1-443e-4d65-aac8-30750bfe0c16"
      },
      "outputs": [
        {
          "data": {
            "text/plain": [
              "'2.9.0'"
            ]
          },
          "execution_count": 4,
          "metadata": {},
          "output_type": "execute_result"
        }
      ],
      "source": [
        "import keras\n",
        "keras.__version__"
      ]
    },
    {
      "cell_type": "code",
      "execution_count": null,
      "id": "08393255-4920-4030-a687-02ece15a267a",
      "metadata": {
        "execution": {
          "iopub.execute_input": "2024-03-01T23:00:04.582179Z",
          "iopub.status.busy": "2024-03-01T23:00:04.581754Z",
          "iopub.status.idle": "2024-03-01T23:00:50.492327Z",
          "shell.execute_reply": "2024-03-01T23:00:50.491520Z",
          "shell.execute_reply.started": "2024-03-01T23:00:04.582151Z"
        },
        "tags": [],
        "id": "08393255-4920-4030-a687-02ece15a267a",
        "outputId": "ea51d879-7572-4409-adbb-0d0e284d3adf"
      },
      "outputs": [
        {
          "name": "stdout",
          "output_type": "stream",
          "text": [
            "Collecting keras-nlp\n",
            "  Downloading keras_nlp-0.8.2-py3-none-any.whl (465 kB)\n",
            "\u001b[2K     \u001b[90m━━━━━━━━━━━━━━━━━━━━━━━━━━━━━━━━━━━━━━━\u001b[0m \u001b[32m465.3/465.3 kB\u001b[0m \u001b[31m5.5 MB/s\u001b[0m eta \u001b[36m0:00:00\u001b[0ma \u001b[36m0:00:01\u001b[0m\n",
            "\u001b[?25hRequirement already satisfied: keras in /opt/saturncloud/envs/saturn/lib/python3.9/site-packages (2.9.0)\n",
            "Collecting keras\n",
            "  Downloading keras-3.0.5-py3-none-any.whl (1.0 MB)\n",
            "\u001b[2K     \u001b[90m━━━━━━━━━━━━━━━━━━━━━━━━━━━━━━━━━━━━━━━━\u001b[0m \u001b[32m1.0/1.0 MB\u001b[0m \u001b[31m33.6 MB/s\u001b[0m eta \u001b[36m0:00:00\u001b[0m\n",
            "\u001b[?25hCollecting keras-core\n",
            "  Downloading keras_core-0.1.7-py3-none-any.whl (950 kB)\n",
            "\u001b[2K     \u001b[90m━━━━━━━━━━━━━━━━━━━━━━━━━━━━━━━━━━━━━━\u001b[0m \u001b[32m950.8/950.8 kB\u001b[0m \u001b[31m39.9 MB/s\u001b[0m eta \u001b[36m0:00:00\u001b[0m\n",
            "\u001b[?25hRequirement already satisfied: numpy in /opt/saturncloud/envs/saturn/lib/python3.9/site-packages (from keras-nlp) (1.21.6)\n",
            "Collecting rich\n",
            "  Downloading rich-13.7.1-py3-none-any.whl (240 kB)\n",
            "\u001b[2K     \u001b[90m━━━━━━━━━━━━━━━━━━━━━━━━━━━━━━━━━━━━━━\u001b[0m \u001b[32m240.7/240.7 kB\u001b[0m \u001b[31m40.8 MB/s\u001b[0m eta \u001b[36m0:00:00\u001b[0m\n",
            "\u001b[?25hCollecting tensorflow-text\n",
            "  Downloading tensorflow_text-2.15.0-cp39-cp39-manylinux_2_17_x86_64.manylinux2014_x86_64.whl (5.2 MB)\n",
            "\u001b[2K     \u001b[90m━━━━━━━━━━━━━━━━━━━━━━━━━━━━━━━━━━━━━━━━\u001b[0m \u001b[32m5.2/5.2 MB\u001b[0m \u001b[31m110.6 MB/s\u001b[0m eta \u001b[36m0:00:00\u001b[0m00:01\u001b[0m\n",
            "\u001b[?25hRequirement already satisfied: packaging in /opt/saturncloud/envs/saturn/lib/python3.9/site-packages (from keras-nlp) (21.3)\n",
            "Collecting regex\n",
            "  Downloading regex-2023.12.25-cp39-cp39-manylinux_2_17_x86_64.manylinux2014_x86_64.whl (773 kB)\n",
            "\u001b[2K     \u001b[90m━━━━━━━━━━━━━━━━━━━━━━━━━━━━━━━━━━━━━━\u001b[0m \u001b[32m773.4/773.4 kB\u001b[0m \u001b[31m29.6 MB/s\u001b[0m eta \u001b[36m0:00:00\u001b[0m\n",
            "\u001b[?25hRequirement already satisfied: absl-py in /opt/saturncloud/envs/saturn/lib/python3.9/site-packages (from keras-nlp) (1.2.0)\n",
            "Collecting kagglehub\n",
            "  Downloading kagglehub-0.2.0-py3-none-any.whl (33 kB)\n",
            "Collecting dm-tree\n",
            "  Downloading dm_tree-0.1.8-cp39-cp39-manylinux_2_17_x86_64.manylinux2014_x86_64.whl (153 kB)\n",
            "\u001b[2K     \u001b[90m━━━━━━━━━━━━━━━━━━━━━━━━━━━━━━━━━━━━━━\u001b[0m \u001b[32m153.0/153.0 kB\u001b[0m \u001b[31m32.0 MB/s\u001b[0m eta \u001b[36m0:00:00\u001b[0m\n",
            "\u001b[?25hCollecting namex\n",
            "  Downloading namex-0.0.7-py3-none-any.whl (5.8 kB)\n",
            "Collecting ml-dtypes\n",
            "  Downloading ml_dtypes-0.3.2-cp39-cp39-manylinux_2_17_x86_64.manylinux2014_x86_64.whl (2.2 MB)\n",
            "\u001b[2K     \u001b[90m━━━━━━━━━━━━━━━━━━━━━━━━━━━━━━━━━━━━━━━━\u001b[0m \u001b[32m2.2/2.2 MB\u001b[0m \u001b[31m119.1 MB/s\u001b[0m eta \u001b[36m0:00:00\u001b[0m\n",
            "\u001b[?25hRequirement already satisfied: h5py in /opt/saturncloud/envs/saturn/lib/python3.9/site-packages (from keras) (3.7.0)\n",
            "Collecting tqdm\n",
            "  Downloading tqdm-4.66.2-py3-none-any.whl (78 kB)\n",
            "\u001b[2K     \u001b[90m━━━━━━━━━━━━━━━━━━━━━━━━━━━━━━━━━━━━━━━━\u001b[0m \u001b[32m78.3/78.3 kB\u001b[0m \u001b[31m19.3 MB/s\u001b[0m eta \u001b[36m0:00:00\u001b[0m\n",
            "\u001b[?25hRequirement already satisfied: requests in /opt/saturncloud/envs/saturn/lib/python3.9/site-packages (from kagglehub->keras-nlp) (2.28.1)\n",
            "Requirement already satisfied: pyparsing!=3.0.5,>=2.0.2 in /opt/saturncloud/envs/saturn/lib/python3.9/site-packages (from packaging->keras-nlp) (3.0.9)\n",
            "Collecting markdown-it-py>=2.2.0\n",
            "  Downloading markdown_it_py-3.0.0-py3-none-any.whl (87 kB)\n",
            "\u001b[2K     \u001b[90m━━━━━━━━━━━━━━━━━━━━━━━━━━━━━━━━━━━━━━━━\u001b[0m \u001b[32m87.5/87.5 kB\u001b[0m \u001b[31m21.5 MB/s\u001b[0m eta \u001b[36m0:00:00\u001b[0m\n",
            "\u001b[?25hRequirement already satisfied: pygments<3.0.0,>=2.13.0 in /opt/saturncloud/envs/saturn/lib/python3.9/site-packages (from rich->keras-nlp) (2.13.0)\n",
            "Collecting tensorflow<2.16,>=2.15.0\n",
            "  Downloading tensorflow-2.15.0.post1-cp39-cp39-manylinux_2_17_x86_64.manylinux2014_x86_64.whl (475.2 MB)\n",
            "\u001b[2K     \u001b[90m━━━━━━━━━━━━━━━━━━━━━━━━━━━━━━━━━━━━━━━\u001b[0m \u001b[32m475.2/475.2 MB\u001b[0m \u001b[31m2.8 MB/s\u001b[0m eta \u001b[36m0:00:00\u001b[0m00:01\u001b[0m00:01\u001b[0m\n",
            "\u001b[?25hCollecting tensorflow-hub>=0.13.0\n",
            "  Downloading tensorflow_hub-0.16.1-py2.py3-none-any.whl (30 kB)\n",
            "Collecting mdurl~=0.1\n",
            "  Downloading mdurl-0.1.2-py3-none-any.whl (10.0 kB)\n",
            "Requirement already satisfied: setuptools in /opt/saturncloud/envs/saturn/lib/python3.9/site-packages (from tensorflow<2.16,>=2.15.0->tensorflow-text->keras-nlp) (59.8.0)\n",
            "Collecting numpy\n",
            "  Downloading numpy-1.26.4-cp39-cp39-manylinux_2_17_x86_64.manylinux2014_x86_64.whl (18.2 MB)\n",
            "\u001b[2K     \u001b[90m━━━━━━━━━━━━━━━━━━━━━━━━━━━━━━━━━━━━━━━━\u001b[0m \u001b[32m18.2/18.2 MB\u001b[0m \u001b[31m82.7 MB/s\u001b[0m eta \u001b[36m0:00:00\u001b[0m00:01\u001b[0m00:01\u001b[0m\n",
            "\u001b[?25hRequirement already satisfied: tensorflow-io-gcs-filesystem>=0.23.1 in /opt/saturncloud/envs/saturn/lib/python3.9/site-packages (from tensorflow<2.16,>=2.15.0->tensorflow-text->keras-nlp) (0.27.0)\n",
            "Requirement already satisfied: opt-einsum>=2.3.2 in /opt/saturncloud/envs/saturn/lib/python3.9/site-packages (from tensorflow<2.16,>=2.15.0->tensorflow-text->keras-nlp) (3.3.0)\n",
            "Requirement already satisfied: wrapt<1.15,>=1.11.0 in /opt/saturncloud/envs/saturn/lib/python3.9/site-packages (from tensorflow<2.16,>=2.15.0->tensorflow-text->keras-nlp) (1.14.1)\n",
            "Collecting ml-dtypes\n",
            "  Downloading ml_dtypes-0.2.0-cp39-cp39-manylinux_2_17_x86_64.manylinux2014_x86_64.whl (1.0 MB)\n",
            "\u001b[2K     \u001b[90m━━━━━━━━━━━━━━━━━━━━━━━━━━━━━━━━━━━━━━━━\u001b[0m \u001b[32m1.0/1.0 MB\u001b[0m \u001b[31m96.3 MB/s\u001b[0m eta \u001b[36m0:00:00\u001b[0m\n",
            "\u001b[?25hRequirement already satisfied: gast!=0.5.0,!=0.5.1,!=0.5.2,>=0.2.1 in /opt/saturncloud/envs/saturn/lib/python3.9/site-packages (from tensorflow<2.16,>=2.15.0->tensorflow-text->keras-nlp) (0.4.0)\n",
            "Requirement already satisfied: grpcio<2.0,>=1.24.3 in /opt/saturncloud/envs/saturn/lib/python3.9/site-packages (from tensorflow<2.16,>=2.15.0->tensorflow-text->keras-nlp) (1.46.3)\n",
            "Collecting protobuf!=4.21.0,!=4.21.1,!=4.21.2,!=4.21.3,!=4.21.4,!=4.21.5,<5.0.0dev,>=3.20.3\n",
            "  Downloading protobuf-4.25.3-cp37-abi3-manylinux2014_x86_64.whl (294 kB)\n",
            "\u001b[2K     \u001b[90m━━━━━━━━━━━━━━━━━━━━━━━━━━━━━━━━━━━━━━\u001b[0m \u001b[32m294.6/294.6 kB\u001b[0m \u001b[31m47.9 MB/s\u001b[0m eta \u001b[36m0:00:00\u001b[0m\n",
            "\u001b[?25hRequirement already satisfied: typing-extensions>=3.6.6 in /opt/saturncloud/envs/saturn/lib/python3.9/site-packages (from tensorflow<2.16,>=2.15.0->tensorflow-text->keras-nlp) (4.3.0)\n",
            "Collecting keras\n",
            "  Downloading keras-2.15.0-py3-none-any.whl (1.7 MB)\n",
            "\u001b[2K     \u001b[90m━━━━━━━━━━━━━━━━━━━━━━━━━━━━━━━━━━━━━━━━\u001b[0m \u001b[32m1.7/1.7 MB\u001b[0m \u001b[31m116.8 MB/s\u001b[0m eta \u001b[36m0:00:00\u001b[0m\n",
            "\u001b[?25hRequirement already satisfied: libclang>=13.0.0 in /opt/saturncloud/envs/saturn/lib/python3.9/site-packages (from tensorflow<2.16,>=2.15.0->tensorflow-text->keras-nlp) (14.0.6)\n",
            "Requirement already satisfied: termcolor>=1.1.0 in /opt/saturncloud/envs/saturn/lib/python3.9/site-packages (from tensorflow<2.16,>=2.15.0->tensorflow-text->keras-nlp) (2.0.1)\n",
            "Requirement already satisfied: google-pasta>=0.1.1 in /opt/saturncloud/envs/saturn/lib/python3.9/site-packages (from tensorflow<2.16,>=2.15.0->tensorflow-text->keras-nlp) (0.2.0)\n",
            "Requirement already satisfied: six>=1.12.0 in /opt/saturncloud/envs/saturn/lib/python3.9/site-packages (from tensorflow<2.16,>=2.15.0->tensorflow-text->keras-nlp) (1.16.0)\n",
            "Collecting tensorflow-estimator<2.16,>=2.15.0\n",
            "  Downloading tensorflow_estimator-2.15.0-py2.py3-none-any.whl (441 kB)\n",
            "\u001b[2K     \u001b[90m━━━━━━━━━━━━━━━━━━━━━━━━━━━━━━━━━━━━━━\u001b[0m \u001b[32m442.0/442.0 kB\u001b[0m \u001b[31m57.8 MB/s\u001b[0m eta \u001b[36m0:00:00\u001b[0m\n",
            "\u001b[?25hRequirement already satisfied: astunparse>=1.6.0 in /opt/saturncloud/envs/saturn/lib/python3.9/site-packages (from tensorflow<2.16,>=2.15.0->tensorflow-text->keras-nlp) (1.6.3)\n",
            "Collecting tensorboard<2.16,>=2.15\n",
            "  Downloading tensorboard-2.15.2-py3-none-any.whl (5.5 MB)\n",
            "\u001b[2K     \u001b[90m━━━━━━━━━━━━━━━━━━━━━━━━━━━━━━━━━━━━━━━━\u001b[0m \u001b[32m5.5/5.5 MB\u001b[0m \u001b[31m118.0 MB/s\u001b[0m eta \u001b[36m0:00:00\u001b[0m00:01\u001b[0m\n",
            "\u001b[?25hCollecting flatbuffers>=23.5.26\n",
            "  Downloading flatbuffers-23.5.26-py2.py3-none-any.whl (26 kB)\n",
            "Collecting tf-keras>=2.14.1\n",
            "  Downloading tf_keras-2.15.0-py3-none-any.whl (1.7 MB)\n",
            "\u001b[2K     \u001b[90m━━━━━━━━━━━━━━━━━━━━━━━━━━━━━━━━━━━━━━━━\u001b[0m \u001b[32m1.7/1.7 MB\u001b[0m \u001b[31m115.5 MB/s\u001b[0m eta \u001b[36m0:00:00\u001b[0m\n",
            "\u001b[?25hRequirement already satisfied: certifi>=2017.4.17 in /opt/saturncloud/envs/saturn/lib/python3.9/site-packages (from requests->kagglehub->keras-nlp) (2022.9.24)\n",
            "Requirement already satisfied: charset-normalizer<3,>=2 in /opt/saturncloud/envs/saturn/lib/python3.9/site-packages (from requests->kagglehub->keras-nlp) (2.0.12)\n",
            "Requirement already satisfied: idna<4,>=2.5 in /opt/saturncloud/envs/saturn/lib/python3.9/site-packages (from requests->kagglehub->keras-nlp) (3.4)\n",
            "Requirement already satisfied: urllib3<1.27,>=1.21.1 in /opt/saturncloud/envs/saturn/lib/python3.9/site-packages (from requests->kagglehub->keras-nlp) (1.26.11)\n",
            "Requirement already satisfied: wheel<1.0,>=0.23.0 in /opt/saturncloud/envs/saturn/lib/python3.9/site-packages (from astunparse>=1.6.0->tensorflow<2.16,>=2.15.0->tensorflow-text->keras-nlp) (0.37.1)\n",
            "Requirement already satisfied: markdown>=2.6.8 in /opt/saturncloud/envs/saturn/lib/python3.9/site-packages (from tensorboard<2.16,>=2.15->tensorflow<2.16,>=2.15.0->tensorflow-text->keras-nlp) (3.4.1)\n",
            "Requirement already satisfied: google-auth<3,>=1.6.3 in /opt/saturncloud/envs/saturn/lib/python3.9/site-packages (from tensorboard<2.16,>=2.15->tensorflow<2.16,>=2.15.0->tensorflow-text->keras-nlp) (2.11.1)\n",
            "Collecting tensorboard-data-server<0.8.0,>=0.7.0\n",
            "  Downloading tensorboard_data_server-0.7.2-py3-none-manylinux_2_31_x86_64.whl (6.6 MB)\n",
            "\u001b[2K     \u001b[90m━━━━━━━━━━━━━━━━━━━━━━━━━━━━━━━━━━━━━━━━\u001b[0m \u001b[32m6.6/6.6 MB\u001b[0m \u001b[31m122.9 MB/s\u001b[0m eta \u001b[36m0:00:00\u001b[0m00:01\u001b[0m\n",
            "\u001b[?25hRequirement already satisfied: werkzeug>=1.0.1 in /opt/saturncloud/envs/saturn/lib/python3.9/site-packages (from tensorboard<2.16,>=2.15->tensorflow<2.16,>=2.15.0->tensorflow-text->keras-nlp) (2.2.2)\n",
            "Collecting grpcio<2.0,>=1.24.3\n",
            "  Downloading grpcio-1.62.0-cp39-cp39-manylinux_2_17_x86_64.manylinux2014_x86_64.whl (5.6 MB)\n",
            "\u001b[2K     \u001b[90m━━━━━━━━━━━━━━━━━━━━━━━━━━━━━━━━━━━━━━━━\u001b[0m \u001b[32m5.6/5.6 MB\u001b[0m \u001b[31m122.0 MB/s\u001b[0m eta \u001b[36m0:00:00\u001b[0m00:01\u001b[0m\n",
            "\u001b[?25hCollecting google-auth-oauthlib<2,>=0.5\n",
            "  Downloading google_auth_oauthlib-1.2.0-py2.py3-none-any.whl (24 kB)\n",
            "Requirement already satisfied: pyasn1-modules>=0.2.1 in /opt/saturncloud/envs/saturn/lib/python3.9/site-packages (from google-auth<3,>=1.6.3->tensorboard<2.16,>=2.15->tensorflow<2.16,>=2.15.0->tensorflow-text->keras-nlp) (0.2.7)\n",
            "Requirement already satisfied: rsa<5,>=3.1.4 in /opt/saturncloud/envs/saturn/lib/python3.9/site-packages (from google-auth<3,>=1.6.3->tensorboard<2.16,>=2.15->tensorflow<2.16,>=2.15.0->tensorflow-text->keras-nlp) (4.9)\n",
            "Requirement already satisfied: cachetools<6.0,>=2.0.0 in /opt/saturncloud/envs/saturn/lib/python3.9/site-packages (from google-auth<3,>=1.6.3->tensorboard<2.16,>=2.15->tensorflow<2.16,>=2.15.0->tensorflow-text->keras-nlp) (5.2.0)\n",
            "Requirement already satisfied: requests-oauthlib>=0.7.0 in /opt/saturncloud/envs/saturn/lib/python3.9/site-packages (from google-auth-oauthlib<2,>=0.5->tensorboard<2.16,>=2.15->tensorflow<2.16,>=2.15.0->tensorflow-text->keras-nlp) (1.3.1)\n",
            "Collecting google-auth<3,>=1.6.3\n",
            "  Downloading google_auth-2.28.1-py2.py3-none-any.whl (186 kB)\n",
            "\u001b[2K     \u001b[90m━━━━━━━━━━━━━━━━━━━━━━━━━━━━━━━━━━━━━━\u001b[0m \u001b[32m186.9/186.9 kB\u001b[0m \u001b[31m38.2 MB/s\u001b[0m eta \u001b[36m0:00:00\u001b[0m\n",
            "\u001b[?25hRequirement already satisfied: importlib-metadata>=4.4 in /opt/saturncloud/envs/saturn/lib/python3.9/site-packages (from markdown>=2.6.8->tensorboard<2.16,>=2.15->tensorflow<2.16,>=2.15.0->tensorflow-text->keras-nlp) (4.11.4)\n",
            "Requirement already satisfied: MarkupSafe>=2.1.1 in /opt/saturncloud/envs/saturn/lib/python3.9/site-packages (from werkzeug>=1.0.1->tensorboard<2.16,>=2.15->tensorflow<2.16,>=2.15.0->tensorflow-text->keras-nlp) (2.1.1)\n",
            "Requirement already satisfied: zipp>=0.5 in /opt/saturncloud/envs/saturn/lib/python3.9/site-packages (from importlib-metadata>=4.4->markdown>=2.6.8->tensorboard<2.16,>=2.15->tensorflow<2.16,>=2.15.0->tensorflow-text->keras-nlp) (3.8.1)\n",
            "Requirement already satisfied: pyasn1<0.5.0,>=0.4.6 in /opt/saturncloud/envs/saturn/lib/python3.9/site-packages (from pyasn1-modules>=0.2.1->google-auth<3,>=1.6.3->tensorboard<2.16,>=2.15->tensorflow<2.16,>=2.15.0->tensorflow-text->keras-nlp) (0.4.8)\n",
            "Requirement already satisfied: oauthlib>=3.0.0 in /opt/saturncloud/envs/saturn/lib/python3.9/site-packages (from requests-oauthlib>=0.7.0->google-auth-oauthlib<2,>=0.5->tensorboard<2.16,>=2.15->tensorflow<2.16,>=2.15.0->tensorflow-text->keras-nlp) (3.2.1)\n",
            "Installing collected packages: namex, flatbuffers, dm-tree, tqdm, tf-keras, tensorflow-estimator, tensorboard-data-server, regex, protobuf, numpy, mdurl, keras, grpcio, tensorflow-hub, ml-dtypes, markdown-it-py, kagglehub, google-auth, rich, google-auth-oauthlib, tensorboard, keras-core, tensorflow, tensorflow-text, keras-nlp\n",
            "  Attempting uninstall: flatbuffers\n",
            "    Found existing installation: flatbuffers 1.12\n",
            "    Uninstalling flatbuffers-1.12:\n",
            "      Successfully uninstalled flatbuffers-1.12\n",
            "  Attempting uninstall: tensorflow-estimator\n",
            "    Found existing installation: tensorflow-estimator 2.9.0\n",
            "    Uninstalling tensorflow-estimator-2.9.0:\n",
            "      Successfully uninstalled tensorflow-estimator-2.9.0\n",
            "  Attempting uninstall: tensorboard-data-server\n",
            "    Found existing installation: tensorboard-data-server 0.6.0\n",
            "    Uninstalling tensorboard-data-server-0.6.0:\n",
            "      Successfully uninstalled tensorboard-data-server-0.6.0\n",
            "  Attempting uninstall: protobuf\n",
            "    Found existing installation: protobuf 3.19.5\n",
            "    Uninstalling protobuf-3.19.5:\n",
            "      Successfully uninstalled protobuf-3.19.5\n",
            "  Attempting uninstall: numpy\n",
            "    Found existing installation: numpy 1.21.6\n",
            "    Uninstalling numpy-1.21.6:\n",
            "      Successfully uninstalled numpy-1.21.6\n",
            "  Attempting uninstall: keras\n",
            "    Found existing installation: keras 2.9.0\n",
            "    Uninstalling keras-2.9.0:\n",
            "      Successfully uninstalled keras-2.9.0\n",
            "  Attempting uninstall: grpcio\n",
            "    Found existing installation: grpcio 1.46.3\n",
            "    Uninstalling grpcio-1.46.3:\n",
            "      Successfully uninstalled grpcio-1.46.3\n",
            "  Attempting uninstall: google-auth\n",
            "    Found existing installation: google-auth 2.11.1\n",
            "    Uninstalling google-auth-2.11.1:\n",
            "      Successfully uninstalled google-auth-2.11.1\n",
            "  Attempting uninstall: google-auth-oauthlib\n",
            "    Found existing installation: google-auth-oauthlib 0.4.6\n",
            "    Uninstalling google-auth-oauthlib-0.4.6:\n",
            "      Successfully uninstalled google-auth-oauthlib-0.4.6\n",
            "  Attempting uninstall: tensorboard\n",
            "    Found existing installation: tensorboard 2.9.0\n",
            "    Uninstalling tensorboard-2.9.0:\n",
            "      Successfully uninstalled tensorboard-2.9.0\n",
            "  Attempting uninstall: tensorflow\n",
            "    Found existing installation: tensorflow 2.9.1\n",
            "    Uninstalling tensorflow-2.9.1:\n",
            "      Successfully uninstalled tensorflow-2.9.1\n",
            "\u001b[31mERROR: pip's dependency resolver does not currently take into account all the packages that are installed. This behaviour is the source of the following dependency conflicts.\n",
            "numba 0.55.2 requires numpy<1.23,>=1.18, but you have numpy 1.26.4 which is incompatible.\u001b[0m\u001b[31m\n",
            "\u001b[0mSuccessfully installed dm-tree-0.1.8 flatbuffers-23.5.26 google-auth-2.28.1 google-auth-oauthlib-1.2.0 grpcio-1.62.0 kagglehub-0.2.0 keras-2.15.0 keras-core-0.1.7 keras-nlp-0.8.2 markdown-it-py-3.0.0 mdurl-0.1.2 ml-dtypes-0.2.0 namex-0.0.7 numpy-1.26.4 protobuf-4.25.3 regex-2023.12.25 rich-13.7.1 tensorboard-2.15.2 tensorboard-data-server-0.7.2 tensorflow-2.15.0.post1 tensorflow-estimator-2.15.0 tensorflow-hub-0.16.1 tensorflow-text-2.15.0 tf-keras-2.15.0 tqdm-4.66.2\n"
          ]
        }
      ],
      "source": [
        "!pip install -U keras-nlp keras"
      ]
    },
    {
      "cell_type": "code",
      "execution_count": null,
      "id": "1bebe46c-5b40-4a64-9e52-a4cb0969c84a",
      "metadata": {
        "execution": {
          "iopub.execute_input": "2024-03-01T23:01:00.336683Z",
          "iopub.status.busy": "2024-03-01T23:01:00.336272Z",
          "iopub.status.idle": "2024-03-01T23:02:56.254084Z",
          "shell.execute_reply": "2024-03-01T23:02:56.253316Z",
          "shell.execute_reply.started": "2024-03-01T23:01:00.336652Z"
        },
        "id": "1bebe46c-5b40-4a64-9e52-a4cb0969c84a",
        "outputId": "e0eda39e-dcf0-4f01-f12f-b84a33e283fa"
      },
      "outputs": [
        {
          "name": "stdout",
          "output_type": "stream",
          "text": [
            "Collecting tensorflow[and-cuda]==2.16.0rc0\n",
            "  Downloading tensorflow-2.16.0rc0-cp39-cp39-manylinux_2_17_x86_64.manylinux2014_x86_64.whl (589.8 MB)\n",
            "\u001b[2K     \u001b[90m━━━━━━━━━━━━━━━━━━━━━━━━━━━━━━━━━━━━━━━\u001b[0m \u001b[32m589.8/589.8 MB\u001b[0m \u001b[31m2.2 MB/s\u001b[0m eta \u001b[36m0:00:00\u001b[0m00:01\u001b[0m00:01\u001b[0m\n",
            "\u001b[?25hRequirement already satisfied: google-pasta>=0.1.1 in /opt/saturncloud/envs/saturn/lib/python3.9/site-packages (from tensorflow[and-cuda]==2.16.0rc0) (0.2.0)\n",
            "Requirement already satisfied: grpcio<2.0,>=1.24.3 in /opt/saturncloud/envs/saturn/lib/python3.9/site-packages (from tensorflow[and-cuda]==2.16.0rc0) (1.62.0)\n",
            "Requirement already satisfied: gast!=0.5.0,!=0.5.1,!=0.5.2,>=0.2.1 in /opt/saturncloud/envs/saturn/lib/python3.9/site-packages (from tensorflow[and-cuda]==2.16.0rc0) (0.4.0)\n",
            "Collecting ml-dtypes~=0.3.1\n",
            "  Using cached ml_dtypes-0.3.2-cp39-cp39-manylinux_2_17_x86_64.manylinux2014_x86_64.whl (2.2 MB)\n",
            "Requirement already satisfied: wrapt>=1.11.0 in /opt/saturncloud/envs/saturn/lib/python3.9/site-packages (from tensorflow[and-cuda]==2.16.0rc0) (1.14.1)\n",
            "Requirement already satisfied: opt-einsum>=2.3.2 in /opt/saturncloud/envs/saturn/lib/python3.9/site-packages (from tensorflow[and-cuda]==2.16.0rc0) (3.3.0)\n",
            "Requirement already satisfied: setuptools in /opt/saturncloud/envs/saturn/lib/python3.9/site-packages (from tensorflow[and-cuda]==2.16.0rc0) (59.8.0)\n",
            "Collecting h5py>=3.10.0\n",
            "  Downloading h5py-3.10.0-cp39-cp39-manylinux_2_17_x86_64.manylinux2014_x86_64.whl (4.8 MB)\n",
            "\u001b[2K     \u001b[90m━━━━━━━━━━━━━━━━━━━━━━━━━━━━━━━━━━━━━━━━\u001b[0m \u001b[32m4.8/4.8 MB\u001b[0m \u001b[31m110.7 MB/s\u001b[0m eta \u001b[36m0:00:00\u001b[0m00:01\u001b[0m\n",
            "\u001b[?25hRequirement already satisfied: termcolor>=1.1.0 in /opt/saturncloud/envs/saturn/lib/python3.9/site-packages (from tensorflow[and-cuda]==2.16.0rc0) (2.0.1)\n",
            "Requirement already satisfied: numpy<2.0.0,>=1.23.5 in /opt/saturncloud/envs/saturn/lib/python3.9/site-packages (from tensorflow[and-cuda]==2.16.0rc0) (1.26.4)\n",
            "Requirement already satisfied: requests<3,>=2.21.0 in /opt/saturncloud/envs/saturn/lib/python3.9/site-packages (from tensorflow[and-cuda]==2.16.0rc0) (2.28.1)\n",
            "Requirement already satisfied: packaging in /opt/saturncloud/envs/saturn/lib/python3.9/site-packages (from tensorflow[and-cuda]==2.16.0rc0) (21.3)\n",
            "Requirement already satisfied: typing-extensions>=3.6.6 in /opt/saturncloud/envs/saturn/lib/python3.9/site-packages (from tensorflow[and-cuda]==2.16.0rc0) (4.3.0)\n",
            "Collecting tensorboard<2.17,>=2.16\n",
            "  Downloading tensorboard-2.16.2-py3-none-any.whl (5.5 MB)\n",
            "\u001b[2K     \u001b[90m━━━━━━━━━━━━━━━━━━━━━━━━━━━━━━━━━━━━━━━━\u001b[0m \u001b[32m5.5/5.5 MB\u001b[0m \u001b[31m105.5 MB/s\u001b[0m eta \u001b[36m0:00:00\u001b[0m00:01\u001b[0m\n",
            "\u001b[?25hCollecting keras>=3.0.0\n",
            "  Using cached keras-3.0.5-py3-none-any.whl (1.0 MB)\n",
            "Requirement already satisfied: astunparse>=1.6.0 in /opt/saturncloud/envs/saturn/lib/python3.9/site-packages (from tensorflow[and-cuda]==2.16.0rc0) (1.6.3)\n",
            "Requirement already satisfied: libclang>=13.0.0 in /opt/saturncloud/envs/saturn/lib/python3.9/site-packages (from tensorflow[and-cuda]==2.16.0rc0) (14.0.6)\n",
            "Requirement already satisfied: six>=1.12.0 in /opt/saturncloud/envs/saturn/lib/python3.9/site-packages (from tensorflow[and-cuda]==2.16.0rc0) (1.16.0)\n",
            "Requirement already satisfied: tensorflow-io-gcs-filesystem>=0.23.1 in /opt/saturncloud/envs/saturn/lib/python3.9/site-packages (from tensorflow[and-cuda]==2.16.0rc0) (0.27.0)\n",
            "Requirement already satisfied: flatbuffers>=23.5.26 in /opt/saturncloud/envs/saturn/lib/python3.9/site-packages (from tensorflow[and-cuda]==2.16.0rc0) (23.5.26)\n",
            "Requirement already satisfied: absl-py>=1.0.0 in /opt/saturncloud/envs/saturn/lib/python3.9/site-packages (from tensorflow[and-cuda]==2.16.0rc0) (1.2.0)\n",
            "Requirement already satisfied: protobuf!=4.21.0,!=4.21.1,!=4.21.2,!=4.21.3,!=4.21.4,!=4.21.5,<5.0.0dev,>=3.20.3 in /opt/saturncloud/envs/saturn/lib/python3.9/site-packages (from tensorflow[and-cuda]==2.16.0rc0) (4.25.3)\n",
            "Collecting nvidia-cufft-cu12==11.0.12.1\n",
            "  Downloading nvidia_cufft_cu12-11.0.12.1-py3-none-manylinux1_x86_64.whl (98.8 MB)\n",
            "\u001b[2K     \u001b[90m━━━━━━━━━━━━━━━━━━━━━━━━━━━━━━━━━━━━━━━━\u001b[0m \u001b[32m98.8/98.8 MB\u001b[0m \u001b[31m19.3 MB/s\u001b[0m eta \u001b[36m0:00:00\u001b[0m00:01\u001b[0m00:01\u001b[0m\n",
            "\u001b[?25hCollecting nvidia-nccl-cu12==2.19.3\n",
            "  Downloading nvidia_nccl_cu12-2.19.3-py3-none-manylinux1_x86_64.whl (166.0 MB)\n",
            "\u001b[2K     \u001b[90m━━━━━━━━━━━━━━━━━━━━━━━━━━━━━━━━━━━━━━\u001b[0m \u001b[32m166.0/166.0 MB\u001b[0m \u001b[31m13.1 MB/s\u001b[0m eta \u001b[36m0:00:00\u001b[0m00:01\u001b[0m00:01\u001b[0m\n",
            "\u001b[?25hCollecting nvidia-nvjitlink-cu12==12.3.101\n",
            "  Downloading nvidia_nvjitlink_cu12-12.3.101-py3-none-manylinux1_x86_64.whl (20.5 MB)\n",
            "\u001b[2K     \u001b[90m━━━━━━━━━━━━━━━━━━━━━━━━━━━━━━━━━━━━━━━━\u001b[0m \u001b[32m20.5/20.5 MB\u001b[0m \u001b[31m45.1 MB/s\u001b[0m eta \u001b[36m0:00:00\u001b[0m00:01\u001b[0m00:01\u001b[0m\n",
            "\u001b[?25hCollecting nvidia-cuda-runtime-cu12==12.3.101\n",
            "  Downloading nvidia_cuda_runtime_cu12-12.3.101-py3-none-manylinux1_x86_64.whl (867 kB)\n",
            "\u001b[2K     \u001b[90m━━━━━━━━━━━━━━━━━━━━━━━━━━━━━━━━━━━━━━\u001b[0m \u001b[32m867.7/867.7 kB\u001b[0m \u001b[31m67.8 MB/s\u001b[0m eta \u001b[36m0:00:00\u001b[0m\n",
            "\u001b[?25hCollecting nvidia-cusparse-cu12==12.2.0.103\n",
            "  Downloading nvidia_cusparse_cu12-12.2.0.103-py3-none-manylinux1_x86_64.whl (197.5 MB)\n",
            "\u001b[2K     \u001b[90m━━━━━━━━━━━━━━━━━━━━━━━━━━━━━━━━━━━━━━━\u001b[0m \u001b[32m197.5/197.5 MB\u001b[0m \u001b[31m9.6 MB/s\u001b[0m eta \u001b[36m0:00:00\u001b[0m00:01\u001b[0m00:01\u001b[0m\n",
            "\u001b[?25hCollecting nvidia-cuda-cupti-cu12==12.3.101\n",
            "  Downloading nvidia_cuda_cupti_cu12-12.3.101-py3-none-manylinux1_x86_64.whl (14.0 MB)\n",
            "\u001b[2K     \u001b[90m━━━━━━━━━━━━━━━━━━━━━━━━━━━━━━━━━━━━━━━━\u001b[0m \u001b[32m14.0/14.0 MB\u001b[0m \u001b[31m59.6 MB/s\u001b[0m eta \u001b[36m0:00:00\u001b[0m00:01\u001b[0m00:01\u001b[0m\n",
            "\u001b[?25hCollecting nvidia-cudnn-cu12==8.9.7.29\n",
            "  Downloading nvidia_cudnn_cu12-8.9.7.29-py3-none-manylinux1_x86_64.whl (704.7 MB)\n",
            "\u001b[2K     \u001b[90m━━━━━━━━━━━━━━━━━━━━━━━━━━━━━━━━━━━━━━━\u001b[0m \u001b[32m704.7/704.7 MB\u001b[0m \u001b[31m1.7 MB/s\u001b[0m eta \u001b[36m0:00:00\u001b[0m00:01\u001b[0m00:01\u001b[0m\n",
            "\u001b[?25hCollecting nvidia-cuda-nvrtc-cu12==12.3.107\n",
            "  Downloading nvidia_cuda_nvrtc_cu12-12.3.107-py3-none-manylinux1_x86_64.whl (24.9 MB)\n",
            "\u001b[2K     \u001b[90m━━━━━━━━━━━━━━━━━━━━━━━━━━━━━━━━━━━━━━━━\u001b[0m \u001b[32m24.9/24.9 MB\u001b[0m \u001b[31m26.0 MB/s\u001b[0m eta \u001b[36m0:00:00\u001b[0m00:01\u001b[0m00:01\u001b[0m\n",
            "\u001b[?25hCollecting nvidia-curand-cu12==10.3.4.107\n",
            "  Downloading nvidia_curand_cu12-10.3.4.107-py3-none-manylinux1_x86_64.whl (56.3 MB)\n",
            "\u001b[2K     \u001b[90m━━━━━━━━━━━━━━━━━━━━━━━━━━━━━━━━━━━━━━━━\u001b[0m \u001b[32m56.3/56.3 MB\u001b[0m \u001b[31m18.7 MB/s\u001b[0m eta \u001b[36m0:00:00\u001b[0m00:01\u001b[0m00:01\u001b[0m\n",
            "\u001b[?25hCollecting nvidia-cusolver-cu12==11.5.4.101\n",
            "  Downloading nvidia_cusolver_cu12-11.5.4.101-py3-none-manylinux1_x86_64.whl (125.2 MB)\n",
            "\u001b[2K     \u001b[90m━━━━━━━━━━━━━━━━━━━━━━━━━━━━━━━━━━━━━━\u001b[0m \u001b[32m125.2/125.2 MB\u001b[0m \u001b[31m13.4 MB/s\u001b[0m eta \u001b[36m0:00:00\u001b[0m00:01\u001b[0m00:01\u001b[0m\n",
            "\u001b[?25hCollecting nvidia-cuda-nvcc-cu12==12.3.107\n",
            "  Downloading nvidia_cuda_nvcc_cu12-12.3.107-py3-none-manylinux1_x86_64.whl (22.0 MB)\n",
            "\u001b[2K     \u001b[90m━━━━━━━━━━━━━━━━━━━━━━━━━━━━━━━━━━━━━━━━\u001b[0m \u001b[32m22.0/22.0 MB\u001b[0m \u001b[31m32.4 MB/s\u001b[0m eta \u001b[36m0:00:00\u001b[0m00:01\u001b[0m00:01\u001b[0m\n",
            "\u001b[?25hCollecting nvidia-cublas-cu12==12.3.4.1\n",
            "  Downloading nvidia_cublas_cu12-12.3.4.1-py3-none-manylinux1_x86_64.whl (412.6 MB)\n",
            "\u001b[2K     \u001b[90m━━━━━━━━━━━━━━━━━━━━━━━━━━━━━━━━━━━━━━━\u001b[0m \u001b[32m412.6/412.6 MB\u001b[0m \u001b[31m3.2 MB/s\u001b[0m eta \u001b[36m0:00:00\u001b[0m00:01\u001b[0m00:01\u001b[0m\n",
            "\u001b[?25hRequirement already satisfied: wheel<1.0,>=0.23.0 in /opt/saturncloud/envs/saturn/lib/python3.9/site-packages (from astunparse>=1.6.0->tensorflow[and-cuda]==2.16.0rc0) (0.37.1)\n",
            "Requirement already satisfied: namex in /opt/saturncloud/envs/saturn/lib/python3.9/site-packages (from keras>=3.0.0->tensorflow[and-cuda]==2.16.0rc0) (0.0.7)\n",
            "Requirement already satisfied: rich in /opt/saturncloud/envs/saturn/lib/python3.9/site-packages (from keras>=3.0.0->tensorflow[and-cuda]==2.16.0rc0) (13.7.1)\n",
            "Requirement already satisfied: dm-tree in /opt/saturncloud/envs/saturn/lib/python3.9/site-packages (from keras>=3.0.0->tensorflow[and-cuda]==2.16.0rc0) (0.1.8)\n",
            "Requirement already satisfied: charset-normalizer<3,>=2 in /opt/saturncloud/envs/saturn/lib/python3.9/site-packages (from requests<3,>=2.21.0->tensorflow[and-cuda]==2.16.0rc0) (2.0.12)\n",
            "Requirement already satisfied: idna<4,>=2.5 in /opt/saturncloud/envs/saturn/lib/python3.9/site-packages (from requests<3,>=2.21.0->tensorflow[and-cuda]==2.16.0rc0) (3.4)\n",
            "Requirement already satisfied: certifi>=2017.4.17 in /opt/saturncloud/envs/saturn/lib/python3.9/site-packages (from requests<3,>=2.21.0->tensorflow[and-cuda]==2.16.0rc0) (2022.9.24)\n",
            "Requirement already satisfied: urllib3<1.27,>=1.21.1 in /opt/saturncloud/envs/saturn/lib/python3.9/site-packages (from requests<3,>=2.21.0->tensorflow[and-cuda]==2.16.0rc0) (1.26.11)\n",
            "Requirement already satisfied: markdown>=2.6.8 in /opt/saturncloud/envs/saturn/lib/python3.9/site-packages (from tensorboard<2.17,>=2.16->tensorflow[and-cuda]==2.16.0rc0) (3.4.1)\n",
            "Requirement already satisfied: werkzeug>=1.0.1 in /opt/saturncloud/envs/saturn/lib/python3.9/site-packages (from tensorboard<2.17,>=2.16->tensorflow[and-cuda]==2.16.0rc0) (2.2.2)\n",
            "Requirement already satisfied: tensorboard-data-server<0.8.0,>=0.7.0 in /opt/saturncloud/envs/saturn/lib/python3.9/site-packages (from tensorboard<2.17,>=2.16->tensorflow[and-cuda]==2.16.0rc0) (0.7.2)\n",
            "Requirement already satisfied: pyparsing!=3.0.5,>=2.0.2 in /opt/saturncloud/envs/saturn/lib/python3.9/site-packages (from packaging->tensorflow[and-cuda]==2.16.0rc0) (3.0.9)\n",
            "Requirement already satisfied: importlib-metadata>=4.4 in /opt/saturncloud/envs/saturn/lib/python3.9/site-packages (from markdown>=2.6.8->tensorboard<2.17,>=2.16->tensorflow[and-cuda]==2.16.0rc0) (4.11.4)\n",
            "Requirement already satisfied: MarkupSafe>=2.1.1 in /opt/saturncloud/envs/saturn/lib/python3.9/site-packages (from werkzeug>=1.0.1->tensorboard<2.17,>=2.16->tensorflow[and-cuda]==2.16.0rc0) (2.1.1)\n",
            "Requirement already satisfied: pygments<3.0.0,>=2.13.0 in /opt/saturncloud/envs/saturn/lib/python3.9/site-packages (from rich->keras>=3.0.0->tensorflow[and-cuda]==2.16.0rc0) (2.13.0)\n",
            "Requirement already satisfied: markdown-it-py>=2.2.0 in /opt/saturncloud/envs/saturn/lib/python3.9/site-packages (from rich->keras>=3.0.0->tensorflow[and-cuda]==2.16.0rc0) (3.0.0)\n",
            "Requirement already satisfied: zipp>=0.5 in /opt/saturncloud/envs/saturn/lib/python3.9/site-packages (from importlib-metadata>=4.4->markdown>=2.6.8->tensorboard<2.17,>=2.16->tensorflow[and-cuda]==2.16.0rc0) (3.8.1)\n",
            "Requirement already satisfied: mdurl~=0.1 in /opt/saturncloud/envs/saturn/lib/python3.9/site-packages (from markdown-it-py>=2.2.0->rich->keras>=3.0.0->tensorflow[and-cuda]==2.16.0rc0) (0.1.2)\n",
            "Installing collected packages: nvidia-nvjitlink-cu12, nvidia-nccl-cu12, nvidia-curand-cu12, nvidia-cufft-cu12, nvidia-cuda-runtime-cu12, nvidia-cuda-nvrtc-cu12, nvidia-cuda-nvcc-cu12, nvidia-cuda-cupti-cu12, nvidia-cublas-cu12, ml-dtypes, h5py, nvidia-cusparse-cu12, nvidia-cudnn-cu12, tensorboard, nvidia-cusolver-cu12, keras, tensorflow\n",
            "  Attempting uninstall: ml-dtypes\n",
            "    Found existing installation: ml-dtypes 0.2.0\n",
            "    Uninstalling ml-dtypes-0.2.0:\n",
            "      Successfully uninstalled ml-dtypes-0.2.0\n",
            "  Attempting uninstall: h5py\n",
            "    Found existing installation: h5py 3.7.0\n",
            "    Uninstalling h5py-3.7.0:\n",
            "      Successfully uninstalled h5py-3.7.0\n",
            "  Attempting uninstall: tensorboard\n",
            "    Found existing installation: tensorboard 2.15.2\n",
            "    Uninstalling tensorboard-2.15.2:\n",
            "      Successfully uninstalled tensorboard-2.15.2\n",
            "  Attempting uninstall: keras\n",
            "    Found existing installation: keras 2.15.0\n",
            "    Uninstalling keras-2.15.0:\n",
            "      Successfully uninstalled keras-2.15.0\n",
            "  Attempting uninstall: tensorflow\n",
            "    Found existing installation: tensorflow 2.15.0.post1\n",
            "    Uninstalling tensorflow-2.15.0.post1:\n",
            "      Successfully uninstalled tensorflow-2.15.0.post1\n",
            "\u001b[31mERROR: pip's dependency resolver does not currently take into account all the packages that are installed. This behaviour is the source of the following dependency conflicts.\n",
            "tensorflow-text 2.15.0 requires tensorflow<2.16,>=2.15.0; platform_machine != \"arm64\" or platform_system != \"Darwin\", but you have tensorflow 2.16.0rc0 which is incompatible.\u001b[0m\u001b[31m\n",
            "\u001b[0mSuccessfully installed h5py-3.10.0 keras-3.0.5 ml-dtypes-0.3.2 nvidia-cublas-cu12-12.3.4.1 nvidia-cuda-cupti-cu12-12.3.101 nvidia-cuda-nvcc-cu12-12.3.107 nvidia-cuda-nvrtc-cu12-12.3.107 nvidia-cuda-runtime-cu12-12.3.101 nvidia-cudnn-cu12-8.9.7.29 nvidia-cufft-cu12-11.0.12.1 nvidia-curand-cu12-10.3.4.107 nvidia-cusolver-cu12-11.5.4.101 nvidia-cusparse-cu12-12.2.0.103 nvidia-nccl-cu12-2.19.3 nvidia-nvjitlink-cu12-12.3.101 tensorboard-2.16.2 tensorflow-2.16.0rc0\n"
          ]
        }
      ],
      "source": [
        "!pip install -U tensorflow[and-cuda]==2.16.0rc0"
      ]
    },
    {
      "cell_type": "code",
      "execution_count": null,
      "id": "aaf0bf2d-a432-4568-b388-7370f8e95c21",
      "metadata": {
        "execution": {
          "iopub.execute_input": "2024-03-01T23:03:02.206964Z",
          "iopub.status.busy": "2024-03-01T23:03:02.206567Z",
          "iopub.status.idle": "2024-03-01T23:03:17.241060Z",
          "shell.execute_reply": "2024-03-01T23:03:17.240267Z",
          "shell.execute_reply.started": "2024-03-01T23:03:02.206930Z"
        },
        "id": "aaf0bf2d-a432-4568-b388-7370f8e95c21",
        "outputId": "d10f2b92-da81-4ab5-fb7f-fbefcf2a1b31"
      },
      "outputs": [
        {
          "name": "stdout",
          "output_type": "stream",
          "text": [
            "Looking in links: https://storage.googleapis.com/jax-releases/jax_cuda_releases.html\n",
            "Collecting jax[cuda12_pip]\n",
            "  Downloading jax-0.4.25-py3-none-any.whl (1.8 MB)\n",
            "\u001b[2K     \u001b[90m━━━━━━━━━━━━━━━━━━━━━━━━━━━━━━━━━━━━━━━━\u001b[0m \u001b[32m1.8/1.8 MB\u001b[0m \u001b[31m20.6 MB/s\u001b[0m eta \u001b[36m0:00:00\u001b[0ma \u001b[36m0:00:01\u001b[0m\n",
            "\u001b[?25hRequirement already satisfied: opt-einsum in /opt/saturncloud/envs/saturn/lib/python3.9/site-packages (from jax[cuda12_pip]) (3.3.0)\n",
            "Requirement already satisfied: importlib-metadata>=4.6 in /opt/saturncloud/envs/saturn/lib/python3.9/site-packages (from jax[cuda12_pip]) (4.11.4)\n",
            "Collecting scipy>=1.9\n",
            "  Downloading scipy-1.12.0-cp39-cp39-manylinux_2_17_x86_64.manylinux2014_x86_64.whl (38.5 MB)\n",
            "\u001b[2K     \u001b[90m━━━━━━━━━━━━━━━━━━━━━━━━━━━━━━━━━━━━━━━━\u001b[0m \u001b[32m38.5/38.5 MB\u001b[0m \u001b[31m51.9 MB/s\u001b[0m eta \u001b[36m0:00:00\u001b[0m00:01\u001b[0m00:01\u001b[0m\n",
            "\u001b[?25hRequirement already satisfied: numpy>=1.22 in /opt/saturncloud/envs/saturn/lib/python3.9/site-packages (from jax[cuda12_pip]) (1.26.4)\n",
            "Requirement already satisfied: ml-dtypes>=0.2.0 in /opt/saturncloud/envs/saturn/lib/python3.9/site-packages (from jax[cuda12_pip]) (0.3.2)\n",
            "Collecting jaxlib==0.4.25+cuda12.cudnn89\n",
            "  Downloading https://storage.googleapis.com/jax-releases/cuda12/jaxlib-0.4.25%2Bcuda12.cudnn89-cp39-cp39-manylinux2014_x86_64.whl (143.6 MB)\n",
            "\u001b[2K     \u001b[90m━━━━━━━━━━━━━━━━━━━━━━━━━━━━━━━━━━━━━━\u001b[0m \u001b[32m143.6/143.6 MB\u001b[0m \u001b[31m12.7 MB/s\u001b[0m eta \u001b[36m0:00:00\u001b[0m00:01\u001b[0m00:01\u001b[0m\n",
            "\u001b[?25hRequirement already satisfied: nvidia-cusparse-cu12>=12.2.0.103 in /opt/saturncloud/envs/saturn/lib/python3.9/site-packages (from jax[cuda12_pip]) (12.2.0.103)\n",
            "Requirement already satisfied: nvidia-cublas-cu12>=12.3.4.1 in /opt/saturncloud/envs/saturn/lib/python3.9/site-packages (from jax[cuda12_pip]) (12.3.4.1)\n",
            "Requirement already satisfied: nvidia-nccl-cu12>=2.19.3 in /opt/saturncloud/envs/saturn/lib/python3.9/site-packages (from jax[cuda12_pip]) (2.19.3)\n",
            "Requirement already satisfied: nvidia-nvjitlink-cu12>=12.3.101 in /opt/saturncloud/envs/saturn/lib/python3.9/site-packages (from jax[cuda12_pip]) (12.3.101)\n",
            "Requirement already satisfied: nvidia-cuda-runtime-cu12>=12.3.101 in /opt/saturncloud/envs/saturn/lib/python3.9/site-packages (from jax[cuda12_pip]) (12.3.101)\n",
            "Requirement already satisfied: nvidia-cuda-cupti-cu12>=12.3.101 in /opt/saturncloud/envs/saturn/lib/python3.9/site-packages (from jax[cuda12_pip]) (12.3.101)\n",
            "Requirement already satisfied: nvidia-cuda-nvcc-cu12>=12.3.107 in /opt/saturncloud/envs/saturn/lib/python3.9/site-packages (from jax[cuda12_pip]) (12.3.107)\n",
            "Requirement already satisfied: nvidia-cufft-cu12>=11.0.12.1 in /opt/saturncloud/envs/saturn/lib/python3.9/site-packages (from jax[cuda12_pip]) (11.0.12.1)\n",
            "Requirement already satisfied: nvidia-cudnn-cu12>=8.9.7.29 in /opt/saturncloud/envs/saturn/lib/python3.9/site-packages (from jax[cuda12_pip]) (8.9.7.29)\n",
            "Requirement already satisfied: nvidia-cusolver-cu12>=11.5.4.101 in /opt/saturncloud/envs/saturn/lib/python3.9/site-packages (from jax[cuda12_pip]) (11.5.4.101)\n",
            "Requirement already satisfied: zipp>=0.5 in /opt/saturncloud/envs/saturn/lib/python3.9/site-packages (from importlib-metadata>=4.6->jax[cuda12_pip]) (3.8.1)\n",
            "Requirement already satisfied: nvidia-cuda-nvrtc-cu12 in /opt/saturncloud/envs/saturn/lib/python3.9/site-packages (from nvidia-cudnn-cu12>=8.9.7.29->jax[cuda12_pip]) (12.3.107)\n",
            "Installing collected packages: scipy, jaxlib, jax\n",
            "Successfully installed jax-0.4.25 jaxlib-0.4.25+cuda12.cudnn89 scipy-1.12.0\n"
          ]
        }
      ],
      "source": [
        "!pip install --upgrade \"jax[cuda12_pip]\" -f https://storage.googleapis.com/jax-releases/jax_cuda_releases.html"
      ]
    },
    {
      "cell_type": "code",
      "execution_count": null,
      "id": "7c9b3c9a-3102-474f-a756-4dd1673c7928",
      "metadata": {
        "execution": {
          "iopub.execute_input": "2024-03-01T23:03:17.242815Z",
          "iopub.status.busy": "2024-03-01T23:03:17.242495Z",
          "iopub.status.idle": "2024-03-01T23:03:21.052684Z",
          "shell.execute_reply": "2024-03-01T23:03:21.051789Z",
          "shell.execute_reply.started": "2024-03-01T23:03:17.242786Z"
        },
        "id": "7c9b3c9a-3102-474f-a756-4dd1673c7928",
        "outputId": "e39f09c9-4379-4182-c167-39fe67b4b438"
      },
      "outputs": [
        {
          "name": "stdout",
          "output_type": "stream",
          "text": [
            "Collecting kaggle\n",
            "  Downloading kaggle-1.6.6.tar.gz (84 kB)\n",
            "\u001b[2K     \u001b[90m━━━━━━━━━━━━━━━━━━━━━━━━━━━━━━━━━━━━━━━━\u001b[0m \u001b[32m84.6/84.6 kB\u001b[0m \u001b[31m3.7 MB/s\u001b[0m eta \u001b[36m0:00:00\u001b[0m\n",
            "\u001b[?25h  Preparing metadata (setup.py) ... \u001b[?25ldone\n",
            "\u001b[?25hRequirement already satisfied: tensorflow-hub in /opt/saturncloud/envs/saturn/lib/python3.9/site-packages (0.16.1)\n",
            "Collecting tensorflow-text==2.16.0rc0\n",
            "  Downloading tensorflow_text-2.16.0rc0-cp39-cp39-manylinux_2_17_x86_64.manylinux2014_x86_64.whl (5.2 MB)\n",
            "\u001b[2K     \u001b[90m━━━━━━━━━━━━━━━━━━━━━━━━━━━━━━━━━━━━━━━━\u001b[0m \u001b[32m5.2/5.2 MB\u001b[0m \u001b[31m47.4 MB/s\u001b[0m eta \u001b[36m0:00:00\u001b[0m00:01\u001b[0m00:01\u001b[0m\n",
            "\u001b[?25hRequirement already satisfied: tensorflow<2.17,>=2.16.0rc0 in /opt/saturncloud/envs/saturn/lib/python3.9/site-packages (from tensorflow-text==2.16.0rc0) (2.16.0rc0)\n",
            "Requirement already satisfied: six>=1.10 in /opt/saturncloud/envs/saturn/lib/python3.9/site-packages (from kaggle) (1.16.0)\n",
            "Requirement already satisfied: certifi in /opt/saturncloud/envs/saturn/lib/python3.9/site-packages (from kaggle) (2022.9.24)\n",
            "Requirement already satisfied: python-dateutil in /opt/saturncloud/envs/saturn/lib/python3.9/site-packages (from kaggle) (2.8.2)\n",
            "Requirement already satisfied: requests in /opt/saturncloud/envs/saturn/lib/python3.9/site-packages (from kaggle) (2.28.1)\n",
            "Requirement already satisfied: tqdm in /opt/saturncloud/envs/saturn/lib/python3.9/site-packages (from kaggle) (4.66.2)\n",
            "Requirement already satisfied: python-slugify in /opt/saturncloud/envs/saturn/lib/python3.9/site-packages (from kaggle) (6.1.2)\n",
            "Requirement already satisfied: urllib3 in /opt/saturncloud/envs/saturn/lib/python3.9/site-packages (from kaggle) (1.26.11)\n",
            "Requirement already satisfied: bleach in /opt/saturncloud/envs/saturn/lib/python3.9/site-packages (from kaggle) (5.0.1)\n",
            "Requirement already satisfied: numpy>=1.12.0 in /opt/saturncloud/envs/saturn/lib/python3.9/site-packages (from tensorflow-hub) (1.26.4)\n",
            "Requirement already satisfied: protobuf>=3.19.6 in /opt/saturncloud/envs/saturn/lib/python3.9/site-packages (from tensorflow-hub) (4.25.3)\n",
            "Requirement already satisfied: tf-keras>=2.14.1 in /opt/saturncloud/envs/saturn/lib/python3.9/site-packages (from tensorflow-hub) (2.15.0)\n",
            "Requirement already satisfied: tensorboard<2.17,>=2.16 in /opt/saturncloud/envs/saturn/lib/python3.9/site-packages (from tensorflow<2.17,>=2.16.0rc0->tensorflow-text==2.16.0rc0) (2.16.2)\n",
            "Requirement already satisfied: flatbuffers>=23.5.26 in /opt/saturncloud/envs/saturn/lib/python3.9/site-packages (from tensorflow<2.17,>=2.16.0rc0->tensorflow-text==2.16.0rc0) (23.5.26)\n",
            "Requirement already satisfied: setuptools in /opt/saturncloud/envs/saturn/lib/python3.9/site-packages (from tensorflow<2.17,>=2.16.0rc0->tensorflow-text==2.16.0rc0) (59.8.0)\n",
            "Requirement already satisfied: termcolor>=1.1.0 in /opt/saturncloud/envs/saturn/lib/python3.9/site-packages (from tensorflow<2.17,>=2.16.0rc0->tensorflow-text==2.16.0rc0) (2.0.1)\n",
            "Requirement already satisfied: ml-dtypes~=0.3.1 in /opt/saturncloud/envs/saturn/lib/python3.9/site-packages (from tensorflow<2.17,>=2.16.0rc0->tensorflow-text==2.16.0rc0) (0.3.2)\n",
            "Requirement already satisfied: gast!=0.5.0,!=0.5.1,!=0.5.2,>=0.2.1 in /opt/saturncloud/envs/saturn/lib/python3.9/site-packages (from tensorflow<2.17,>=2.16.0rc0->tensorflow-text==2.16.0rc0) (0.4.0)\n",
            "Requirement already satisfied: wrapt>=1.11.0 in /opt/saturncloud/envs/saturn/lib/python3.9/site-packages (from tensorflow<2.17,>=2.16.0rc0->tensorflow-text==2.16.0rc0) (1.14.1)\n",
            "Requirement already satisfied: libclang>=13.0.0 in /opt/saturncloud/envs/saturn/lib/python3.9/site-packages (from tensorflow<2.17,>=2.16.0rc0->tensorflow-text==2.16.0rc0) (14.0.6)\n",
            "Requirement already satisfied: tensorflow-io-gcs-filesystem>=0.23.1 in /opt/saturncloud/envs/saturn/lib/python3.9/site-packages (from tensorflow<2.17,>=2.16.0rc0->tensorflow-text==2.16.0rc0) (0.27.0)\n",
            "Requirement already satisfied: packaging in /opt/saturncloud/envs/saturn/lib/python3.9/site-packages (from tensorflow<2.17,>=2.16.0rc0->tensorflow-text==2.16.0rc0) (21.3)\n",
            "Requirement already satisfied: keras>=3.0.0 in /opt/saturncloud/envs/saturn/lib/python3.9/site-packages (from tensorflow<2.17,>=2.16.0rc0->tensorflow-text==2.16.0rc0) (3.0.5)\n",
            "Requirement already satisfied: absl-py>=1.0.0 in /opt/saturncloud/envs/saturn/lib/python3.9/site-packages (from tensorflow<2.17,>=2.16.0rc0->tensorflow-text==2.16.0rc0) (1.2.0)\n",
            "Requirement already satisfied: grpcio<2.0,>=1.24.3 in /opt/saturncloud/envs/saturn/lib/python3.9/site-packages (from tensorflow<2.17,>=2.16.0rc0->tensorflow-text==2.16.0rc0) (1.62.0)\n",
            "Requirement already satisfied: google-pasta>=0.1.1 in /opt/saturncloud/envs/saturn/lib/python3.9/site-packages (from tensorflow<2.17,>=2.16.0rc0->tensorflow-text==2.16.0rc0) (0.2.0)\n",
            "Requirement already satisfied: opt-einsum>=2.3.2 in /opt/saturncloud/envs/saturn/lib/python3.9/site-packages (from tensorflow<2.17,>=2.16.0rc0->tensorflow-text==2.16.0rc0) (3.3.0)\n",
            "Requirement already satisfied: astunparse>=1.6.0 in /opt/saturncloud/envs/saturn/lib/python3.9/site-packages (from tensorflow<2.17,>=2.16.0rc0->tensorflow-text==2.16.0rc0) (1.6.3)\n",
            "Requirement already satisfied: h5py>=3.10.0 in /opt/saturncloud/envs/saturn/lib/python3.9/site-packages (from tensorflow<2.17,>=2.16.0rc0->tensorflow-text==2.16.0rc0) (3.10.0)\n",
            "Requirement already satisfied: typing-extensions>=3.6.6 in /opt/saturncloud/envs/saturn/lib/python3.9/site-packages (from tensorflow<2.17,>=2.16.0rc0->tensorflow-text==2.16.0rc0) (4.3.0)\n",
            "Requirement already satisfied: idna<4,>=2.5 in /opt/saturncloud/envs/saturn/lib/python3.9/site-packages (from requests->kaggle) (3.4)\n",
            "Requirement already satisfied: charset-normalizer<3,>=2 in /opt/saturncloud/envs/saturn/lib/python3.9/site-packages (from requests->kaggle) (2.0.12)\n",
            "Requirement already satisfied: webencodings in /opt/saturncloud/envs/saturn/lib/python3.9/site-packages (from bleach->kaggle) (0.5.1)\n",
            "Requirement already satisfied: text-unidecode>=1.3 in /opt/saturncloud/envs/saturn/lib/python3.9/site-packages (from python-slugify->kaggle) (1.3)\n",
            "Requirement already satisfied: wheel<1.0,>=0.23.0 in /opt/saturncloud/envs/saturn/lib/python3.9/site-packages (from astunparse>=1.6.0->tensorflow<2.17,>=2.16.0rc0->tensorflow-text==2.16.0rc0) (0.37.1)\n",
            "Requirement already satisfied: dm-tree in /opt/saturncloud/envs/saturn/lib/python3.9/site-packages (from keras>=3.0.0->tensorflow<2.17,>=2.16.0rc0->tensorflow-text==2.16.0rc0) (0.1.8)\n",
            "Requirement already satisfied: rich in /opt/saturncloud/envs/saturn/lib/python3.9/site-packages (from keras>=3.0.0->tensorflow<2.17,>=2.16.0rc0->tensorflow-text==2.16.0rc0) (13.7.1)\n",
            "Requirement already satisfied: namex in /opt/saturncloud/envs/saturn/lib/python3.9/site-packages (from keras>=3.0.0->tensorflow<2.17,>=2.16.0rc0->tensorflow-text==2.16.0rc0) (0.0.7)\n",
            "Requirement already satisfied: tensorboard-data-server<0.8.0,>=0.7.0 in /opt/saturncloud/envs/saturn/lib/python3.9/site-packages (from tensorboard<2.17,>=2.16->tensorflow<2.17,>=2.16.0rc0->tensorflow-text==2.16.0rc0) (0.7.2)\n",
            "Requirement already satisfied: markdown>=2.6.8 in /opt/saturncloud/envs/saturn/lib/python3.9/site-packages (from tensorboard<2.17,>=2.16->tensorflow<2.17,>=2.16.0rc0->tensorflow-text==2.16.0rc0) (3.4.1)\n",
            "Requirement already satisfied: werkzeug>=1.0.1 in /opt/saturncloud/envs/saturn/lib/python3.9/site-packages (from tensorboard<2.17,>=2.16->tensorflow<2.17,>=2.16.0rc0->tensorflow-text==2.16.0rc0) (2.2.2)\n",
            "Requirement already satisfied: pyparsing!=3.0.5,>=2.0.2 in /opt/saturncloud/envs/saturn/lib/python3.9/site-packages (from packaging->tensorflow<2.17,>=2.16.0rc0->tensorflow-text==2.16.0rc0) (3.0.9)\n",
            "Requirement already satisfied: importlib-metadata>=4.4 in /opt/saturncloud/envs/saturn/lib/python3.9/site-packages (from markdown>=2.6.8->tensorboard<2.17,>=2.16->tensorflow<2.17,>=2.16.0rc0->tensorflow-text==2.16.0rc0) (4.11.4)\n",
            "Requirement already satisfied: MarkupSafe>=2.1.1 in /opt/saturncloud/envs/saturn/lib/python3.9/site-packages (from werkzeug>=1.0.1->tensorboard<2.17,>=2.16->tensorflow<2.17,>=2.16.0rc0->tensorflow-text==2.16.0rc0) (2.1.1)\n",
            "Requirement already satisfied: markdown-it-py>=2.2.0 in /opt/saturncloud/envs/saturn/lib/python3.9/site-packages (from rich->keras>=3.0.0->tensorflow<2.17,>=2.16.0rc0->tensorflow-text==2.16.0rc0) (3.0.0)\n",
            "Requirement already satisfied: pygments<3.0.0,>=2.13.0 in /opt/saturncloud/envs/saturn/lib/python3.9/site-packages (from rich->keras>=3.0.0->tensorflow<2.17,>=2.16.0rc0->tensorflow-text==2.16.0rc0) (2.13.0)\n",
            "Requirement already satisfied: zipp>=0.5 in /opt/saturncloud/envs/saturn/lib/python3.9/site-packages (from importlib-metadata>=4.4->markdown>=2.6.8->tensorboard<2.17,>=2.16->tensorflow<2.17,>=2.16.0rc0->tensorflow-text==2.16.0rc0) (3.8.1)\n",
            "Requirement already satisfied: mdurl~=0.1 in /opt/saturncloud/envs/saturn/lib/python3.9/site-packages (from markdown-it-py>=2.2.0->rich->keras>=3.0.0->tensorflow<2.17,>=2.16.0rc0->tensorflow-text==2.16.0rc0) (0.1.2)\n",
            "Building wheels for collected packages: kaggle\n",
            "  Building wheel for kaggle (setup.py) ... \u001b[?25ldone\n",
            "\u001b[?25h  Created wheel for kaggle: filename=kaggle-1.6.6-py3-none-any.whl size=111963 sha256=d91712be1faff52028492a400c2b8a8d2ef88fe69a5858cbeb300ed0cab12cc3\n",
            "  Stored in directory: /home/jovyan/.cache/pip/wheels/46/aa/c3/b3e421522fb5acdd7c366a05c5fc80787615bdeed207e7f79b\n",
            "Successfully built kaggle\n",
            "Installing collected packages: kaggle, tensorflow-text\n",
            "  Attempting uninstall: tensorflow-text\n",
            "    Found existing installation: tensorflow-text 2.15.0\n",
            "    Uninstalling tensorflow-text-2.15.0:\n",
            "      Successfully uninstalled tensorflow-text-2.15.0\n",
            "Successfully installed kaggle-1.6.6 tensorflow-text-2.16.0rc0\n"
          ]
        }
      ],
      "source": [
        "!pip install kaggle tensorflow-hub tensorflow-text==2.16.0rc0"
      ]
    },
    {
      "cell_type": "markdown",
      "id": "f4d1d435-c6d2-4a3a-80ce-9aaa8309d1ac",
      "metadata": {
        "id": "f4d1d435-c6d2-4a3a-80ce-9aaa8309d1ac"
      },
      "source": [
        "## Check the version after restarting kernel, make sure to shut down all running notebook before running this"
      ]
    },
    {
      "cell_type": "code",
      "execution_count": null,
      "id": "c8d8b301-a90d-491b-b49c-daaea0ff8e0b",
      "metadata": {
        "execution": {
          "iopub.execute_input": "2024-03-01T23:10:16.862828Z",
          "iopub.status.busy": "2024-03-01T23:10:16.862434Z",
          "iopub.status.idle": "2024-03-01T23:10:16.867103Z",
          "shell.execute_reply": "2024-03-01T23:10:16.866360Z",
          "shell.execute_reply.started": "2024-03-01T23:10:16.862803Z"
        },
        "tags": [],
        "id": "c8d8b301-a90d-491b-b49c-daaea0ff8e0b",
        "outputId": "b8aa241c-b307-42e4-e1a0-5372959f1e10"
      },
      "outputs": [
        {
          "name": "stdout",
          "output_type": "stream",
          "text": [
            "tensorflow version after upgrade: 2.16.0-rc0\n",
            "jax version after upgrade: 0.4.25\n",
            "keras version after upgrade: 3.0.5\n"
          ]
        }
      ],
      "source": [
        "import tensorflow as tf\n",
        "print(f'tensorflow version after upgrade: {tf.__version__}')\n",
        "import jax\n",
        "print(f'jax version after upgrade: {jax.__version__}')\n",
        "import keras\n",
        "print(f'keras version after upgrade: {keras.__version__}')\n",
        "#import torch\n",
        "#torch.__version__"
      ]
    },
    {
      "cell_type": "markdown",
      "id": "747f5ba8-659b-4549-a27e-73bd4ef72395",
      "metadata": {
        "id": "747f5ba8-659b-4549-a27e-73bd4ef72395"
      },
      "source": [
        "## Checked. All major dl modules are up-to-date."
      ]
    },
    {
      "cell_type": "code",
      "execution_count": null,
      "id": "a609157d-fc7c-4cdf-8333-818991e8316c",
      "metadata": {
        "id": "a609157d-fc7c-4cdf-8333-818991e8316c"
      },
      "outputs": [],
      "source": []
    }
  ],
  "metadata": {
    "kernelspec": {
      "display_name": "saturn (Python 3)",
      "language": "python",
      "name": "python3"
    },
    "language_info": {
      "codemirror_mode": {
        "name": "ipython",
        "version": 3
      },
      "file_extension": ".py",
      "mimetype": "text/x-python",
      "name": "python",
      "nbconvert_exporter": "python",
      "pygments_lexer": "ipython3",
      "version": "3.9.13"
    },
    "colab": {
      "provenance": [],
      "include_colab_link": true
    }
  },
  "nbformat": 4,
  "nbformat_minor": 5
}
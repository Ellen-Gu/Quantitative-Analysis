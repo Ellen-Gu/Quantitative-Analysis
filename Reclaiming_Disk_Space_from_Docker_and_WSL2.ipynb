{
  "nbformat": 4,
  "nbformat_minor": 0,
  "metadata": {
    "colab": {
      "provenance": [],
      "authorship_tag": "ABX9TyOQb1MGCXBhzOx1WHEGBYHj",
      "include_colab_link": true
    },
    "kernelspec": {
      "name": "python3",
      "display_name": "Python 3"
    },
    "language_info": {
      "name": "python"
    }
  },
  "cells": [
    {
      "cell_type": "markdown",
      "metadata": {
        "id": "view-in-github",
        "colab_type": "text"
      },
      "source": [
        "<a href=\"https://colab.research.google.com/github/Ellen-Gu/Quantitative-Analysis/blob/main/Reclaiming_Disk_Space_from_Docker_and_WSL2.ipynb\" target=\"_parent\"><img src=\"https://colab.research.google.com/assets/colab-badge.svg\" alt=\"Open In Colab\"/></a>"
      ]
    },
    {
      "cell_type": "markdown",
      "source": [
        "**Reclaiming Disk Space from Docker and WSL2**\n",
        "\n",
        "Recently, I encountered a critical issue with disk space while attempting to transfer Docker images using the docker save command. The free space on my hard drive dwindled significantly, preventing the WSL terminal from launching. After some troubleshooting, I managed to revive WSL2, but despite deleting hundreds of gigabytes, the available disk space remained inexplicably low. Initially, my system had around 930GB for Windows, WSL, and Docker. Surprisingly, after extensive deletions, only 12GB remained free.\n",
        "\n",
        "Following extensive research and experimentation, I discovered that both WSL and Docker systems are designed to accommodate increasing disk space but are reluctant to release it, even after substantial file deletions. This situation left my Windows system nearly incapacitated.\n",
        "\n",
        "The root of the problem lies in the way WSL2's Linux virtual disk (vdisk) and Docker's image storage system manage space. Simply cleaning up files within WSL2 and Docker isn’t enough; the actual solution is to manually compact the VHD files.\n",
        "\n",
        "Here's the process I followed:\n",
        "\n",
        "Shutdown WSL2: Begin by shutting down WSL2. This can be done in PowerShell without requiring administrative privileges.\n",
        "\n",
        "Use Diskpart: Next, open PowerShell and enter the diskpart command. Windows will prompt for administrative permission to allow diskpart to make system changes. Approve this to proceed.\n",
        "\n",
        "Operate Diskpart: A new command window will open. Here, locate both vdisks (for WSL and Docker), select them, and initiate the compaction process.\n",
        "\n",
        "Exit Diskpart: After completing the process, type exit to close the Diskpart window.\n",
        "\n",
        "By following these steps, I successfully reclaimed approximately 480GB of space previously occupied by WSL and Docker. If you're facing similar issues with disk space due to WSL2 and Docker, this method might be beneficial. Note that my default systems for WSL2 and Docker are set to Ubuntu-22.04; you might need to adjust the file paths accordingly when directing Diskpart to the vdisk locations.\n",
        "\n",
        "===================================================================================================\n",
        "\n",
        "In PowerShell:\n",
        "----------------------------------------------------------------\n",
        "Windows PowerShell\n",
        "Copyright (C) Microsoft Corporation. All rights reserved.\n",
        "\n",
        "Try the new cross-platform PowerShell https://aka.ms/pscore6\n",
        "\n",
        "PS C:\\Users\\ellen> wsl --shutdown\n",
        "PS C:\\Users\\ellen> diskpart\n",
        "PS C:\\Users\\ellen>\n",
        "\n",
        "Next, in the window that appears, begin by releasing free space from the ext4.vhdx file, which is associated with the Docker system.\n",
        "\n",
        "----------------------------------------------------------------\n",
        "Microsoft DiskPart version 10.0.19041.3636\n",
        "\n",
        "Copyright (C) Microsoft Corporation.\n",
        "On computer: DELLPRECISION\n",
        "\n",
        "DISKPART> select vdisk file=\"C:\\Users\\ellen\\AppData\\Local\\Docker\\wsl\\data\\ext4.vhdx\"\n",
        "\n",
        "DiskPart successfully selected the virtual disk file.\n",
        "\n",
        "DISKPART> compact vdisk\n",
        "\n",
        "  100 percent completed\n",
        "\n",
        "DiskPart successfully compacted the virtual disk file.\n",
        "\n",
        "DISKPART>\n",
        "\n",
        "\n",
        "Subsequently, repeat the similar steps, but this time provide Diskpart with the location of WSL's virtual disk.\n",
        "\n",
        "----------------------------------------------------------------\n",
        "Microsoft DiskPart version 10.0.19041.3636\n",
        "\n",
        "Copyright (C) Microsoft Corporation.\n",
        "On computer: DELLPRECISION\n",
        "\n",
        "DISKPART> select vdisk file=\"C:\\Users\\ellen\\AppData\\Local\\Packages\\CanonicalGroupLimited.Ubuntu22.04LTS_79rhkp1fndgsc\\LocalState\\ext4.vhdx\"\n",
        "\n",
        "DiskPart successfully selected the virtual disk file.\n",
        "\n",
        "DISKPART> compact vdisk\n",
        "\n",
        "  100 percent completed\n",
        "\n",
        "DiskPart successfully compacted the virtual disk file.\n",
        "\n",
        "DISKPART>\n"
      ],
      "metadata": {
        "id": "UIEzcf4u0Z07"
      }
    },
    {
      "cell_type": "markdown",
      "source": [],
      "metadata": {
        "id": "p--AUf7m0hFm"
      }
    }
  ]
}